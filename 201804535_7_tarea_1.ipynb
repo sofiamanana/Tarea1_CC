{
  "nbformat": 4,
  "nbformat_minor": 0,
  "metadata": {
    "colab": {
      "name": "201804535-7-tarea-1.ipynb",
      "provenance": [],
      "collapsed_sections": []
    },
    "kernelspec": {
      "display_name": "Python 3",
      "language": "python",
      "name": "python3"
    },
    "language_info": {
      "codemirror_mode": {
        "name": "ipython",
        "version": 3
      },
      "file_extension": ".py",
      "mimetype": "text/x-python",
      "name": "python",
      "nbconvert_exporter": "python",
      "pygments_lexer": "ipython3",
      "version": "3.6.9"
    }
  },
  "cells": [
    {
      "cell_type": "markdown",
      "metadata": {
        "id": "aBPGOpUM11V1"
      },
      "source": [
        "\n",
        "<center>\n",
        "    <h1> INF285 - Computación Científica </h1>\n",
        "    <h1> Tarea N°1, V0.3 </h1>\n",
        "    \n",
        "</center>\n",
        "\n",
        "<p>\n",
        "\n",
        "</p>"
      ]
    },
    {
      "cell_type": "markdown",
      "metadata": {
        "id": "B7MCAVSDRk3l"
      },
      "source": [
        "## Instrucciones\n",
        "\n",
        "* La tarea es individual, sin embargo se invita a todos l@s estudiantes a que discutan entre ustedes las preguntas pero luego implementen de forma individual su tarea.\n",
        "* Las consultas sobre las tareas se deben realizar por medio de la plataforma Aula.\n",
        "* La tarea debe ser realizada en `Jupyter Notebook` (`Python3`).\n",
        "* Se evaluará la correcta utilización de librerias `NumPy`, `SciPy`, entre otras, así como la correcta implementación de algoritmos de forma vectorizada.\n",
        "* **No modifique la firma de las funciones** (a menos que se le diga lo contrario) y respete el output que se le exije. **En caso de no respetar esta regla la función se considerará errónea.**\n",
        "*  **El archivo de entrega debe denominarse ROL-tarea-numero.ipynb**. _De no respetarse este formato existirá un descuento de **50 puntos**_\n",
        "* La fecha de entrega es el jueves 6 de mayo a las **18:00 hrs**.  \n",
        "* Debe citar cualquier código ajeno utilizado (incluso si proviene de los Jupyter Notebooks del curso).\n",
        "* Puede agregar funciones extras siempre y cuando **no interfieran en las firmas** de las funciones principales establecidas."
      ]
    },
    {
      "cell_type": "markdown",
      "metadata": {
        "id": "D--CA4o_3GxL"
      },
      "source": [
        "## Datos\n",
        "- Sofía Mañana\n",
        "- 201804535-7\n",
        "- sofia.manana@sansano.usm.cl"
      ]
    },
    {
      "cell_type": "markdown",
      "metadata": {
        "id": "PNhvmtRq2Orx"
      },
      "source": [
        "## Introducción \n",
        "\n",
        "En esta primera tarea de INF-285, versión 2021-1, estudiaremos la importancia de los primeros temas estudiados en el curso, los cuales son: Representación de Punto Flotante, Pérdida de Importancia, Errores de Cancelación y Búsqueda de Ceros. \n",
        "El desarrollo de cada uno de esos temas se presenta en una serie de preguntas donde deberá ir decidiendo, pregunta a pregunta, cómo cada uno de los temas se aplica.\n",
        "En general, los temas no se analizan por separado, sino de manera acoplada. \n",
        "Es muy importante que cada uno de los problemas sea analizado teóricamente primero, para luego poner su conocimiento en acción. \n",
        "Cada problema puede ser desarrollado de diversas formas, sin embargo, es muy importante determinar al final si el camino elegido resuelve la pregunta presentada.\n",
        "Es decir, debe aplicar la metodología IDEA!"
      ]
    },
    {
      "cell_type": "markdown",
      "metadata": {
        "id": "lAtn1U0qRg2S"
      },
      "source": [
        "## Problemas"
      ]
    },
    {
      "cell_type": "markdown",
      "metadata": {
        "id": "3znHUOxOUB0-"
      },
      "source": [
        "### 1. Simulador (60 ptos) \n",
        "\n",
        "Dada la familia de polinomios de grado 3 con la forma:\n",
        "\n",
        "\n",
        "\\begin{equation}\n",
        "f(x)=-1 + x + 2 A^2 x - 3 A^2 x^2 + A^2 x^3\n",
        "\\end{equation}\n",
        "\n",
        "Se pide implementar un algoritmo que reciba como parámetros el valor de $A$ (con $|A|>>1$), 'bits_mant' que corresponde a la cantidad de bits que tiene la mantisa y 'bits_exp' que corresponde a la cantidad de bits que tiene el exponente. \n",
        "El algoritmo se ejecutará en un computador ficticio que representa los números con esa cantidad de bits para el estándar de punto flotante IEEE. \n",
        "Debe controlar los casos especiales correctamente.\n",
        "Esta implementación debe calcular las raíces de $f$ sin pérdida de **importancia** con la cantidad de bits disponibles para la mantisa y la cantidad de bits para el exponente.\n",
        "Para obtener las raíces de $f$ usted debe encontrar de forma algebraica sus raíces y luego proponer un algoritmo basado en las _fórmulas_ obtenidas.\n",
        "\n",
        "El computador ficticio cuenta con las operaciones matemáticas necesarias para obtener las raíces. \n",
        "Considere como límites de bits para la mantisa en el intervalo $[2,52]$ y en el intervalo $[2,11]$ para los bits del exponente.\n",
        "\n",
        "Ejemplo:\n",
        "\n",
        "```python\n",
        "# Algoritmo de ejemplo\n",
        "a = 9819824.624837\n",
        "b = 148736.523476\n",
        "c = a+b\n",
        "\n",
        "# Implementación de ejemplo con Representación de Punto Flotante de 'bits_mant' bits en la mantisa y 'bits_exp' bits en el exponente.\n",
        "am = f_new_rep(9819824.624837,bits_mant,bits_exp) # Aproximar el input en la nueva representación.\n",
        "bm = f_new_rep(148736.523476,bits_mant,bits_exp) # Aproximar el input en la nueva representación.\n",
        "cm = f_suma(am,bm,bits_mant,bits_exp) # Aproximar el output de la suma y cada operación en la nueva representación.\n",
        "```\n"
      ]
    },
    {
      "cell_type": "markdown",
      "metadata": {
        "id": "J771QHfFsAA-"
      },
      "source": [
        "#### Explicación:\n",
        "\n",
        "Para comenzar la resolución del problema, primero se calcularán algebraicamente las raíces de $f(x)$ y se hará el análisis necesario teniendo en consideración los casos especiales y la pérdida de importancia. Luego de tener eso listo, se procederá a la explicación de las funciones implementadas. \\\\\n",
        "Se comienza factorizando la función dada: \n",
        "\\begin{equation}\n",
        "f(x) = -1+x+2A^2x-3A^2x^2+A^2x^3\n",
        "\\end{equation}\n",
        "\n",
        "Y se obtiene: \n",
        "\\begin{equation}\n",
        "f(x) = (x-1)(A^2x^2-2A^2x+1)\n",
        "\\end{equation}\n",
        "\n",
        "Donde se puede apreciar que una de las raíces es $x_1=1$. Para el cálculo de las demás raíces, se utilizará la formula para el cálculo de raíces en ecuaciones de segundo grado:\n",
        "\\begin{equation}\n",
        "x_i = \\frac{-b\\pm \\sqrt{b^2-4ac}}{2a}\n",
        "\\end{equation}\n",
        "Y se obtiene:\n",
        "\\begin{equation}\n",
        "x_2 = \\frac{A+ \\sqrt{A^2-1}}{A}\n",
        "\\end{equation}\n",
        "\\begin{equation}\n",
        "x_3 = \\frac{A- \\sqrt{A^2-1}}{A}\n",
        "\\end{equation}\n",
        "\n",
        "\n",
        "\n",
        "Como visto en clases, la resta de dos valores genera pérdida de importancia, por lo que se analizará según el valor de $A$ y así se tratará de evitar la pérdida de importancia minimizando la cantidad de restas en las raíces. Considerando lo anterior, es que se realiza una factorización dentro de la raíz cuadrada en $x_2$ y $x_3$ resultando: \n",
        "\\begin{equation}\n",
        "x_2 = \\frac{A+\\sqrt{A^2(1-\\frac{1}{A^2})}}{A}\n",
        "\\end{equation}\n",
        "\\\n",
        "\\begin{equation}\n",
        "x_2 = 1+\\sqrt{1-\\frac{1}{A^2}}\n",
        "\\end{equation}\n",
        "\\\n",
        "\\begin{equation}\n",
        "x_3 = \\frac{A-\\sqrt{A^2(1-\\frac{1}{A^2})}}{A}\n",
        "\\end{equation}\n",
        "\\\n",
        "\\begin{equation}\n",
        "x_3 = 1-\\sqrt{1-\\frac{1}{A^2}}\n",
        "\\end{equation}\n",
        "\n",
        "Analizando los posibles valores para $A$, sabes que esta no va a ser 0, por lo que se descarta que la fracción se pueda indefinir. Luego, como $A$ está al cuadrado, también se descarta que el signo afecte, por lo que no se van a hacer mayores distinciones.\n"
      ]
    },
    {
      "cell_type": "code",
      "metadata": {
        "colab": {
          "base_uri": "https://localhost:8080/"
        },
        "id": "lS8Dc-Wwr44i",
        "outputId": "8b199fdb-4926-4ba3-a13b-0d32b691a469"
      },
      "source": [
        "!pip install bitstring"
      ],
      "execution_count": 2,
      "outputs": [
        {
          "output_type": "stream",
          "text": [
            "Requirement already satisfied: bitstring in /usr/local/lib/python3.7/dist-packages (3.1.7)\n"
          ],
          "name": "stdout"
        }
      ]
    },
    {
      "cell_type": "markdown",
      "metadata": {
        "id": "9yFA262N2C5O"
      },
      "source": [
        "En primer lugar, se definirán dos funciones, to_binary(f)[1] y new_rep_mant(mant,bits_mant). La primera pasa un número entero a representación punto flotante en su forma binaria. La segunda recibe una lista con los bits que componen una mantisa y los bits de largo que debe tener, retorna una lista con los bits resultantes después de acortarlos considerando las reglas descritas en clases."
      ]
    },
    {
      "cell_type": "code",
      "metadata": {
        "id": "JHqFkXaMhcgP"
      },
      "source": [
        "import bitstring as bs\n",
        "import numpy as np\n",
        "\n",
        "def to_binary(f):\n",
        "    b = bs.pack('>d', f)\n",
        "    b = b.bin\n",
        "    return b\n",
        "\n",
        "def new_rep_mant(mant, bits_mant):\n",
        "    m = []\n",
        "    for i in mant:\n",
        "      m.append(str(i))\n",
        "    \n",
        "    #caso 1: bit 53 es 0, por lo tanto truncar en 52\n",
        "\n",
        "    if m[bits_mant] == '0':\n",
        "      return m[:bits_mant]\n",
        "\n",
        "    #caso 2: bit 53 es 1 y todos los bits despues son 0, y el bit 52 es 0, truncar en 52\n",
        "\n",
        "    if m[bits_mant] == '1':\n",
        "      flag = 0\n",
        "      for i in m[bits_mant+1:]:\n",
        "        if i == '1':\n",
        "          flag = 1\n",
        "          break \n",
        "      if flag == 0:\n",
        "        if m[bits_mant-1] == '0':\n",
        "          return m[:bits_mant]\n",
        "    \n",
        "    #caso 3: bit 53 es 1 y todos los bits despues son 0, y el bt 52 es 1, sumar 1 al bit 52\n",
        "\n",
        "    if m[bits_mant] == '1':\n",
        "      \n",
        "      flag = 0\n",
        "      for i in m[bits_mant+1:]:\n",
        "        if i == '1':\n",
        "          flag = 1\n",
        "          break \n",
        "          \n",
        "      if flag == 0:\n",
        "        if m[bits_mant-1] == '1':\n",
        "\n",
        "          uno = '0b1'\n",
        "          mantisa = ''.join(m[:bits_mant])\n",
        "          sum = int(uno, 2) + int(mantisa, 2)\n",
        "          sum_b = bin(sum)\n",
        "          lis = list(sum_b.split('b')[1])\n",
        "\n",
        "          if len(lis)>bits_mant:\n",
        "            return mantisa[:bits_mant]\n",
        "\n",
        "          return lis\n",
        "\n",
        "      #caso 4: bit 53 es 1, despues no son todos 0, sumar 1 al bit 52\n",
        "   \n",
        "      else:        \n",
        "        uno = '0b1'\n",
        "        mantisa = ''.join(m[:bits_mant])\n",
        "        sum = int(uno, 2) + int(mantisa, 2)\n",
        "        sum_b = bin(sum)\n",
        "        lis = list(sum_b.split('b')[1])\n",
        "        if len(lis) < bits_mant:\n",
        "          for i in range(bits_mant-len(lis)):\n",
        "            lis.insert(0, '0')\n",
        "        elif len(lis)>bits_mant:\n",
        "          return mantisa[:bits_mant]\n",
        "\n",
        "        return lis\n"
      ],
      "execution_count": 47,
      "outputs": []
    },
    {
      "cell_type": "markdown",
      "metadata": {
        "id": "YLl7UqTY4b2y"
      },
      "source": [
        "Luego, se define new_rep_exp(exp,bits_exp) que recibe el exponente en binario y el tamaño de los bits deseados, retorna una lista con el exponente nuevo en binario. Para acortarlo se comprueba que este sea representable en los nuevos bits, si es mayor que el rango de representables, se devuelve una lista con solo 1's y si es menor que el rango, se devuelve una lista con 0's. Más adelante se comprobrará si corresponde a infinito positivo, negativo o Nan."
      ]
    },
    {
      "cell_type": "code",
      "metadata": {
        "id": "QIwOfKeSpncG"
      },
      "source": [
        "def new_rep_exp(exp, bits_exp):\n",
        "  e = [] \n",
        "  e.append('0b')\n",
        "  for i in exp:\n",
        "    e.append(str(i))\n",
        "  e = ''.join(e)\n",
        "\n",
        "  e_d = int(e,2) \n",
        "  bias = 2**(bits_exp-1)-1\n",
        "\n",
        "  p = e_d - 1023 \n",
        "  x = p+bias \n",
        "\n",
        "  if -2**(bits_exp-1)+2 < p < 2**(bits_exp-1)-1: \n",
        "      x = bin(x)\n",
        "      x_ = list(x.split('b')[1])\n",
        "      x=[]\n",
        "      for i in x_:\n",
        "        x.append(str(i))\n",
        "\n",
        "      if len(x) != bits_exp:\n",
        "        for i in range(bits_exp-len(x)):\n",
        "          x.insert(0, '0')\n",
        "\n",
        "      return x\n",
        "\n",
        "  elif p < -2**(bits_exp-1)+2:\n",
        "    ret = []\n",
        "    for i in range(bits_exp):\n",
        "      ret.append('0')\n",
        "    return ret\n",
        "\n",
        "  elif 2**(bits_exp-1)-1 < p:\n",
        "    ret = []\n",
        "    for i in range(bits_exp):\n",
        "      ret.append('1')\n",
        "    return ret\n"
      ],
      "execution_count": 48,
      "outputs": []
    },
    {
      "cell_type": "markdown",
      "metadata": {
        "id": "zmpTKDJX7IZS"
      },
      "source": [
        "La siguiente función utiliza todas las mencionadas anteriormente, recibe el número a representar, la cantidad de bits de la mantisa y la cantidad de bits del exponente y retorna el número aproximado con la nueva representación. Es en esta función que se verifican los casos especiales del exponente y luego se calcula el nuevo número con la mantisa y el exponente retornados de las funciones anteriores, el signo se mantiene."
      ]
    },
    {
      "cell_type": "code",
      "metadata": {
        "id": "bL2t-SfbFwpS"
      },
      "source": [
        "\"\"\"\n",
        "input\n",
        "x         : (double) valor a evaluar\n",
        "bits_mant : (int) cantidad de bits de la mantisa\n",
        "bits_exp  : (int) cantidad de bits del exponente\n",
        "output\n",
        "result      : (double) resultado obtenido\n",
        "\"\"\"\n",
        "def f_new_rep(x,bits_mant,bits_exp):\n",
        "\n",
        "  b = to_binary(x)\n",
        "  if int(b[0])==0:\n",
        "    signo = 1\n",
        "  else:\n",
        "    signo = -1\n",
        "\n",
        "  n_mant = new_rep_mant(b[12:],bits_mant)\n",
        "\n",
        "  n_exp = new_rep_exp(b[1:12],bits_exp)\n",
        "\n",
        "  if '1' in n_exp and '0' not in n_exp:\n",
        "   \n",
        "    if '0' in n_mant and '1' not in n_mant: \n",
        "    \n",
        "      if int(b[0])==0:\n",
        "        print('infinito positivo')\n",
        "        return np.inf\n",
        "      else:\n",
        "        print('infinito negativo')\n",
        "        return np.NINF\n",
        "    else:\n",
        "      print('nan')\n",
        "      return np.nan\n",
        "\n",
        "  elif '0' in n_exp and '1' not in n_exp:\n",
        "    n_exp = -2**(bits_exp-1)+2\n",
        "    sum = 0\n",
        "    j = 1\n",
        "    for i in n_mant:\n",
        "      sum += float(i)*(2**(-j))\n",
        "      j+=1\n",
        "    result = sum*(2**(n_exp))\n",
        "\n",
        "    return  result\n",
        "\n",
        "  bias = 2**(bits_exp-1)-1\n",
        "  e = ['0b']\n",
        "  n_exp = ''.join(n_exp)\n",
        "  e.append(n_exp)\n",
        "  e = ''.join(e)\n",
        "  n_exp = int(e,2)-bias \n",
        "\n",
        "  sum = 1\n",
        "  j = 1\n",
        "  for i in n_mant:\n",
        "    sum += float(i)*(2**(-j))\n",
        "    j+=1\n",
        "  result = signo*sum*(2**(n_exp))\n",
        "\n",
        "  return  result"
      ],
      "execution_count": 58,
      "outputs": []
    },
    {
      "cell_type": "code",
      "metadata": {
        "id": "2efm5YD2UBGD"
      },
      "source": [
        "\"\"\"\n",
        "input\n",
        "n1        : (double) valor a sumar\n",
        "n2        : (double) valor a sumar\n",
        "bits_mant : (int) cantidad de bits de la mantisa\n",
        "bits_exp  : (int) cantidad de bits del exponente\n",
        "output\n",
        "result      : (double) resultado obtenido\n",
        "\"\"\"\n",
        "def f_suma(n1,n2,bits_mant,bits_exp):\n",
        "    #Algoritmo que calcula la suma de dos numeros manteniendo el estandar asignado\n",
        "    n1 = f_new_rep(n1,bits_mant,bits_exp)\n",
        "    n2 = f_new_rep(n2,bits_mant,bits_exp)\n",
        "    if n1 == np.inf or n1 == np.NINF or n1 == np.nan:\n",
        "      print(\"n1 es Infinito, Infinito Negativo o Nan\")\n",
        "      return -1\n",
        "    if n2 == np.inf or n2 == np.NINF or n2 == np.nan:\n",
        "      print(\"n2 es Infinito, Infinito Negativo o Nan\")\n",
        "      return -1\n",
        "    result = n1+n2\n",
        "    return result\n",
        "\n",
        "\"\"\"\n",
        "input\n",
        "n1        : (double) valor a multiplicar\n",
        "n2        : (double) valor a multiplicar\n",
        "bits_mant : (int) cantidad de bits de la mantisa\n",
        "bits_exp  : (int) cantidad de bits del exponente\n",
        "output\n",
        "result      : (double) resultado obtenido\n",
        "\"\"\"\n",
        "def f_multiplicacion(n1,n2,bits_mant,bits_exp):\n",
        "    #Algoritmo que calcula la multiplicación de dos numeros manteniendo el estandar asignado\n",
        "    n1 = f_new_rep(n1,bits_mant,bits_exp)\n",
        "    n2 = f_new_rep(n2,bits_mant,bits_exp)\n",
        "    if n1 == np.inf or n1 == np.NINF or n1 == np.nan:\n",
        "      print(\"n1 es Infinito, Infinito Negativo o Nan\")\n",
        "      return -1\n",
        "    if n2 == np.inf or n2 == np.NINF or n2 == np.nan:\n",
        "      print(\"n2 es Infinito, Infinito Negativo o Nan\")\n",
        "      return -1\n",
        "    result = n1*n2\n",
        "    return result\n",
        "\n",
        "\"\"\"\n",
        "input\n",
        "n1        : (double) valor a multiplicar\n",
        "n2        : (double) valor a multiplicar\n",
        "bits_mant : (int) cantidad de bits de la mantisa\n",
        "bits_exp  : (int) cantidad de bits del exponente\n",
        "output\n",
        "result      : (double) resultado obtenido\n",
        "\"\"\"\n",
        "def f_division(n1,n2,bits_mant,bits_exp):\n",
        "    #Algoritmo que calcula la división de dos numeros manteniendo el estandar asignado\n",
        "    n1 = f_new_rep(n1,bits_mant,bits_exp)\n",
        "    n2 = f_new_rep(n2,bits_mant,bits_exp)\n",
        "    if n1 == np.inf or n1 == np.NINF or n1 == np.nan:\n",
        "      print(\"n1 es Infinito, Infinito Negativo o Nan\")\n",
        "      return -1\n",
        "    if n2 == np.inf or n2 == np.NINF or n2 == np.nan:\n",
        "      print(\"n2 es Infinito, Infinito Negativo o Nan\")\n",
        "      return -1\n",
        "    result = n1/n2\n",
        "    return result\n",
        "#ver cuando da infinito y nan\n",
        "\n",
        "\"\"\"\n",
        "input\n",
        "A         : (double) valor a evaluar\n",
        "bits_mant : (int) cantidad de bits de la mantisa\n",
        "bits_exp  : (int) cantidad de bits del exponente\n",
        "output\n",
        "x_roots      : (array) raices del polinomio ordenadas de menor a mayor\n",
        "\"\"\"\n",
        "def f_find_roots(A,bits_mant,bits_exp):\n",
        "    # Algoritmo para encontrar raíces de f(x).\n",
        "    x_roots = [1] #parte con la primera raíz encontrada\n",
        "    A2 = 0\n",
        "    while A2!=-1:\n",
        "      A2 = f_multiplicacion(A,A,bits_mant,bits_exp)\n",
        "      A2 = f_division(1,A2,bits_mant,bits_exp)\n",
        "      A2 = f_multiplicacion(-1,A2,bits_mant,bits_exp)\n",
        "      A2 = f_suma(1,A2,bits_mant,bits_exp)\n",
        "      raiz = np.sqrt(A2)\n",
        "\n",
        "      x2 = f_suma(1,raiz,bits_mant,bits_exp)\n",
        "      raiz = -1*raiz\n",
        "      x3 = f_suma(1,raiz,bits_mant,bits_exp)\n",
        "      x_roots.append(x2)\n",
        "      x_roots.append(x3)\n",
        "      x_roots.sort()\n",
        "      return x_roots\n",
        "    return \n",
        "    "
      ],
      "execution_count": 63,
      "outputs": []
    },
    {
      "cell_type": "markdown",
      "metadata": {
        "id": "Nw-jJfD-VPMa"
      },
      "source": [
        "### Sinusoidal de Oreman (40 puntos)\n",
        "Considere la siguiente función en 3 variables:\n",
        "\\begin{equation}\n",
        "T(t,\\alpha,\\beta) = \\alpha\\cdot \\cos(t)+\\beta\\cdot \\sin(\\log(t)).\n",
        "\\end{equation}\n",
        "\n",
        "La cual permite calcular la temperatura de una cámara de ambiente dado los parámetros $\\alpha$ y $\\beta$ los cuales corresponden a las condiciones iniciales del experimento. \n",
        "Por otro lado $t$ representa el tiempo en días transcurridos desde que se inició.\n",
        "\n",
        "A usted le permiten utilizar la cámara por un tiempo limitado, para esto planea terminar a los 25 días pero debe asegurarse que las sustancias sean extraídas a temperatura 0.\n",
        "\n",
        "Cree un programa que reciba los parametros $\\alpha$ y $\\beta$ y que retorne el día en el cual deba ser extraído el material cumpliendo la condición de ser el día más cercano a 25 (ya sea antes o después).\n"
      ]
    },
    {
      "cell_type": "markdown",
      "metadata": {
        "id": "etS46Sz1VLTG"
      },
      "source": [
        "####Explicación:\n",
        "\n",
        "Analizando el enunciado, nos encontramos con que se nos pide encontrar los ceros de la función dada cerca de cierto valor (25 días), ese es un problema que es solucionado con el método de Newton[2], donde el initial guess serían los 25 días, o un número cercano, para que la temperatura sea 0. Con esto, se puede empezar a armar la función raiz de Oreman. \\\\\n",
        "En primer lugar, se define la función y su primera derivada que serán utilizadas más adelante para el cálculo. Luego se definen valores de los errores, en este caso se utilizará el error relativo, en vez del error relativo acotado, esto porque analizando y viendo el gráfico de la función, los ceros que están alrededor de los 25 días no son 0, por lo que no es necesario usar un error que nos asegure que no se va a dividir por cero. Además, así se evita definir variable extras que no van a aportar al análisis del problema. \\\\\n",
        "Continuando, se define el punto de inicio de la iteración y para efectos del problema, se permitirá un máximo de 100 iteraciones, despues de eso, se considerará que la función no converge. Con esto se tiene todo lo necesario para comenzar las iteraciones.\n"
      ]
    },
    {
      "cell_type": "code",
      "metadata": {
        "id": "x0rfc_-6JTrG"
      },
      "source": [
        "\"\"\"\n",
        "input\n",
        "alpha: (float) parametro alpha\n",
        "beta: (float) parametro beta\n",
        "tol: (float) tolerancia\n",
        "output\n",
        "root: (double) raiz obtenida\n",
        "pedir por input el alfa, beta y x0\n",
        "\"\"\"\n",
        "\n",
        "def raiz_de_oreman(alpha, beta, x0, tol = 1e-10):\n",
        "    alpha = float(alpha)\n",
        "    beta = float(beta)\n",
        "    x0 = float(x0)\n",
        "\n",
        "    #Funcion y su derivada:\n",
        "    T = lambda x: alpha*(np.cos(x))+beta*(np.sin(np.log(x)))\n",
        "    Td = lambda x: -alpha*(np.sin(x))+(beta/x)*(np.cos(np.log(x)))\n",
        "\n",
        "    e_relativo = 100\n",
        "    error_i = np.inf\n",
        "    \n",
        "    i = 1\n",
        "\n",
        "    while (e_relativo > tol and e_relativo < 1e12 and i<=100):\n",
        "        \n",
        "        x1 = x0-T(x0)/Td(x0)        \n",
        "        if T(x1) == 0.0:\n",
        "            e_relativo = 0.0\n",
        "            break        \n",
        "        e_relativo = abs(x1-x0)/abs(x1)\n",
        "        \n",
        "        i += 1\n",
        "        x0 = x1\n",
        "    \n",
        "    if e_relativo < tol: \n",
        "        return x1\n",
        "    elif i>=100:\n",
        "        print('Demasiadas iteraciones')\n",
        "        return None\n",
        "\n",
        "    root = x1\n",
        "    return root\n"
      ],
      "execution_count": 43,
      "outputs": []
    },
    {
      "cell_type": "code",
      "metadata": {
        "colab": {
          "base_uri": "https://localhost:8080/"
        },
        "id": "NXjtbzUtQwel",
        "outputId": "e9f72cf2-bfba-485b-ccb9-106150f4a3b1"
      },
      "source": [
        "print(\"Ingrese alpha:\")\n",
        "alpha = input()\n",
        "print(\"Ingrese beta:\")\n",
        "beta = input()\n",
        "print(\"Ingrese x0:\")\n",
        "x0 = input()\n",
        "raiz_de_oreman(alpha, beta, x0, tol = 1e-10)"
      ],
      "execution_count": 44,
      "outputs": [
        {
          "output_type": "stream",
          "text": [
            "Ingrese alpha:\n",
            "1\n",
            "Ingrese beta:\n",
            "5\n",
            "Ingrese x0:\n",
            "24\n"
          ],
          "name": "stdout"
        },
        {
          "output_type": "execute_result",
          "data": {
            "text/plain": [
              "23.676675120500352"
            ]
          },
          "metadata": {
            "tags": []
          },
          "execution_count": 44
        }
      ]
    },
    {
      "cell_type": "markdown",
      "metadata": {
        "id": "gVOkWN_zrvR9"
      },
      "source": [
        "# Referencias\n",
        "\n",
        "[1] Notebook 02 Floating Point Arithmetic, Claudio Torres.\\\n",
        "[2] Notebook 03 Root of 1D Equations, Claudio Torres"
      ]
    }
  ]
}